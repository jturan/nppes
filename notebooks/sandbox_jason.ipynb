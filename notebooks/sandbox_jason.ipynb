{
 "cells": [
  {
   "cell_type": "markdown",
   "metadata": {},
   "source": [
    "**Initial Configuration**"
   ]
  },
  {
   "cell_type": "code",
   "execution_count": 1,
   "metadata": {},
   "outputs": [],
   "source": [
    "import sys\n",
    "sys.path.append('..')"
   ]
  },
  {
   "cell_type": "code",
   "execution_count": 2,
   "metadata": {},
   "outputs": [],
   "source": [
    "import nppes\n",
    "from nppes import settings"
   ]
  },
  {
   "cell_type": "markdown",
   "metadata": {},
   "source": [
    "**Begin Notebook Code**"
   ]
  },
  {
   "cell_type": "code",
   "execution_count": 3,
   "metadata": {},
   "outputs": [],
   "source": [
    "import requests\n",
    "from zipfile import ZipFile"
   ]
  },
  {
   "cell_type": "code",
   "execution_count": 4,
   "metadata": {},
   "outputs": [],
   "source": [
    "month_year = 'June 2020'"
   ]
  },
  {
   "cell_type": "code",
   "execution_count": 5,
   "metadata": {},
   "outputs": [],
   "source": [
    "month_year = month_year.replace(\" \", \"_\")\n",
    "\n",
    "file_name = f'NPPES_Data_Dissemination_{month_year}.zip'\n",
    "\n",
    "url = f'https://download.cms.gov/nppes/{file_name}'\n",
    "\n",
    "save_path = f'{settings.DOWNLOADS_FOLDER}{file_name}'"
   ]
  },
  {
   "cell_type": "code",
   "execution_count": 9,
   "metadata": {},
   "outputs": [],
   "source": [
    "def validate_url(url):\n",
    "    r = requests.head(url)\n",
    "    if r.status_code == 200:\n",
    "        return True\n",
    "    else:\n",
    "        return False\n",
    "    \n",
    "def download_file(url, save_path, chunk_size=128):\n",
    "    r = requests.get(url, stream=True)\n",
    "    with open(save_path, 'wb') as fd:\n",
    "        print(\"Downloading file...\")\n",
    "        for chunk in r.iter_content(chunk_size=chunk_size):\n",
    "            fd.write(chunk)\n",
    "        print(\"Done!\")\n",
    "            \n",
    "def unzip_file(file_name):\n",
    "    with ZipFile(file_name, 'r') as z:\n",
    "        z.printdir()\n",
    "        \n",
    "        print(\"Unzipping all the files now...\")\n",
    "        z.extractall()\n",
    "        print(\"Done!\")"
   ]
  },
  {
   "cell_type": "code",
   "execution_count": 31,
   "metadata": {},
   "outputs": [],
   "source": [
    "def extract(month_year, unzip=False):\n",
    "    month_year = month_year.replace(\" \", \"_\")\n",
    "    file_name = f'NPPES_Data_Dissemination_{month_year}.zip'\n",
    "    url = f'https://download.cms.gov/nppes/{file_name}'\n",
    "    save_path = f'{settings.DOWNLOADS_FOLDER}{file_name}'\n",
    "    \n",
    "    # validate url\n",
    "    is_valid_url = validate_url(url)\n",
    "    \n",
    "    # download file\n",
    "    if is_valid_url:\n",
    "        download_file(url, save_path)\n",
    "    else:\n",
    "        print(\"Invalid URL\")\n",
    "        return\n",
    "    \n",
    "    # unzip file\n",
    "    if unzip:\n",
    "        unzip_file(save_path)"
   ]
  },
  {
   "cell_type": "code",
   "execution_count": 10,
   "metadata": {},
   "outputs": [],
   "source": [
    "def extract(url, unzip=False):\n",
    "    save_path = f'{settings.DOWNLOADS_FOLDER}{file_name}'\n",
    "    \n",
    "    # validate url\n",
    "    is_valid_url = validate_url(url)\n",
    "    \n",
    "    # download file\n",
    "    if is_valid_url:\n",
    "        download_file(url, save_path)\n",
    "    else:\n",
    "        print(\"Invalid URL\")\n",
    "        return\n",
    "    \n",
    "    # unzip file\n",
    "    if unzip:\n",
    "        unzip_file(save_path)"
   ]
  },
  {
   "cell_type": "code",
   "execution_count": 12,
   "metadata": {},
   "outputs": [
    {
     "name": "stdout",
     "output_type": "stream",
     "text": [
      "Invalid URL\n"
     ]
    }
   ],
   "source": [
    "extract('https://download.cms.gov/nppes/NPPES_Deactivated_NPI_Report_060921.zip', unzip=True)"
   ]
  },
  {
   "cell_type": "code",
   "execution_count": null,
   "metadata": {},
   "outputs": [],
   "source": []
  }
 ],
 "metadata": {
  "kernelspec": {
   "display_name": "Python 3",
   "language": "python",
   "name": "python3"
  },
  "language_info": {
   "codemirror_mode": {
    "name": "ipython",
    "version": 3
   },
   "file_extension": ".py",
   "mimetype": "text/x-python",
   "name": "python",
   "nbconvert_exporter": "python",
   "pygments_lexer": "ipython3",
   "version": "3.8.2"
  }
 },
 "nbformat": 4,
 "nbformat_minor": 4
}
